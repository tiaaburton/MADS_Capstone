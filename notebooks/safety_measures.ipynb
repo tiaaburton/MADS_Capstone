{
 "cells": [
  {
   "cell_type": "markdown",
   "id": "d1e9ef49-6f19-4463-890b-19475bce91cc",
   "metadata": {},
   "source": [
    "# Safety-first Risk Measures\n",
    "\n",
    "Developed based on the book Handbook of Finance, the 2 safety measures that were requested to be included in the financial dashboard were the Minimax (MM) and Value at Risk (VaR) measures. These measures are computed to help understand the value that an investor could lose out on if they were to invest in the stock. While these may be short sided measures, it could help an investor understand what to expect in the short term to take on more risk in the long term."
   ]
  },
  {
   "cell_type": "markdown",
   "id": "d90b0041-6098-4358-8205-905e99e006e3",
   "metadata": {},
   "source": [
    "We first start by importing some packages that allow us to utilize the MongoDB Altas cloud database and access a financial packages that simplifies calculating the two well know safety measures. These pages are also installed when the requirements files is run."
   ]
  },
  {
   "cell_type": "code",
   "execution_count": null,
   "id": "c5767316-ac34-4eb0-87df-9f3cdeb1de0d",
   "metadata": {},
   "outputs": [],
   "source": [
    "# pip install pyfolio\n",
    "# pip install pymongo\n",
    "# pip install \"pymongo[srv]\""
   ]
  },
  {
   "cell_type": "markdown",
   "id": "865fbef0-cd22-4868-abb4-c1e2562adc60",
   "metadata": {},
   "source": [
    "## Retrieving the Data\n",
    "Joshua R has spun up a MongoDB Atlas instance and provided the team with credentials. Using the Yahoo data, I will be able to perform VAR and MM with the pyfolio package. I'll first log into the database to develop an understand of the contents."
   ]
  },
  {
   "cell_type": "code",
   "execution_count": 64,
   "id": "8cfa692f-a1e8-4e11-b791-75b1036c1bfa",
   "metadata": {},
   "outputs": [],
   "source": [
    "import pyfolio as pf\n",
    "import pymongo\n",
    "import configparser\n",
    "from pprint import pprint\n",
    "from typing import Union\n",
    "\n",
    "config = configparser.ConfigParser()\n",
    "config.read('config.ini')\n",
    "mongo_config = config['MONGO']\n",
    "mongo_connection = \"mongodb+srv://\" + mongo_config['User'] + \":\" + mongo_config['Password'] + \"@\" + mongo_config['Address'] + \"/test\"\n",
    "myclient = pymongo.MongoClient(mongo_connection)\n"
   ]
  },
  {
   "cell_type": "code",
   "execution_count": 46,
   "id": "3378f4c5-b93e-4b42-9a53-ccc447dc4ef2",
   "metadata": {},
   "outputs": [],
   "source": [
    "mydb = myclient[\"market_shopper\"]\n",
    "sub_col = mydb[\"sec_sub\"]\n",
    "num_col = mydb[\"sec_num\"]\n",
    "tag_col = mydb[\"sec_tag\"]\n",
    "pre_col = mydb[\"sec_pre\"]\n",
    "sec_col = mydb[\"sec\"]\n",
    "yahoo_col = mydb[\"yahoo\"]"
   ]
  },
  {
   "cell_type": "code",
   "execution_count": 82,
   "id": "036aec14-d850-4eed-b0fa-bef208b4e467",
   "metadata": {},
   "outputs": [
    {
     "name": "stdout",
     "output_type": "stream",
     "text": [
      "[(datetime.datetime(2020, 1, 2, 5, 0), 311.1169738769531), (datetime.datetime(2020, 1, 3, 5, 0), 308.7611389160156), (datetime.datetime(2020, 1, 6, 5, 0), 309.93914794921875), (datetime.datetime(2020, 1, 7, 5, 0), 309.06768798828125), (datetime.datetime(2020, 1, 8, 5, 0), 310.7148132324219), (datetime.datetime(2020, 1, 9, 5, 0), 312.8216552734375), (datetime.datetime(2020, 1, 10, 5, 0), 311.9215087890625), (datetime.datetime(2020, 1, 13, 5, 0), 314.06671142578125), (datetime.datetime(2020, 1, 14, 5, 0), 313.5877990722656), (datetime.datetime(2020, 1, 15, 5, 0), 314.2965087890625), (datetime.datetime(2020, 1, 16, 5, 0), 316.91094970703125), (datetime.datetime(2020, 1, 17, 5, 0), 317.8973083496094), (datetime.datetime(2020, 1, 21, 5, 0), 317.2747802734375), (datetime.datetime(2020, 1, 22, 5, 0), 317.3131103515625), (datetime.datetime(2020, 1, 23, 5, 0), 317.67706298828125), (datetime.datetime(2020, 1, 24, 5, 0), 314.8519287109375), (datetime.datetime(2020, 1, 27, 5, 0), 309.8050231933594), (datetime.datetime(2020, 1, 28, 5, 0), 313.051513671875), (datetime.datetime(2020, 1, 29, 5, 0), 312.79296875), (datetime.datetime(2020, 1, 30, 5, 0), 313.80810546875), (datetime.datetime(2020, 1, 31, 5, 0), 308.1099853515625), (datetime.datetime(2020, 2, 3, 5, 0), 310.3987731933594), (datetime.datetime(2020, 2, 4, 5, 0), 315.1296691894531), (datetime.datetime(2020, 2, 5, 5, 0), 318.76873779296875), (datetime.datetime(2020, 2, 6, 5, 0), 319.8414001464844), (datetime.datetime(2020, 2, 7, 5, 0), 318.13671875), (datetime.datetime(2020, 2, 10, 5, 0), 320.51171875), (datetime.datetime(2020, 2, 11, 5, 0), 321.0671691894531), (datetime.datetime(2020, 2, 12, 5, 0), 323.1357421875), (datetime.datetime(2020, 2, 13, 5, 0), 322.79095458984375), (datetime.datetime(2020, 2, 14, 5, 0), 323.30810546875), (datetime.datetime(2020, 2, 18, 5, 0), 322.4749450683594), (datetime.datetime(2020, 2, 19, 5, 0), 324.0168151855469), (datetime.datetime(2020, 2, 20, 5, 0), 322.6856689453125), (datetime.datetime(2020, 2, 21, 5, 0), 319.362548828125), (datetime.datetime(2020, 2, 24, 5, 0), 308.770751953125), (datetime.datetime(2020, 2, 25, 5, 0), 299.4143371582031), (datetime.datetime(2020, 2, 26, 5, 0), 298.3130187988281), (datetime.datetime(2020, 2, 27, 5, 0), 284.915283203125), (datetime.datetime(2020, 2, 28, 5, 0), 283.71820068359375), (datetime.datetime(2020, 3, 2, 5, 0), 296.0050354003906), (datetime.datetime(2020, 3, 3, 5, 0), 287.5296936035156), (datetime.datetime(2020, 3, 4, 5, 0), 299.615478515625), (datetime.datetime(2020, 3, 5, 5, 0), 289.65576171875), (datetime.datetime(2020, 3, 6, 5, 0), 284.8673095703125), (datetime.datetime(2020, 3, 9, 4, 0), 262.6208801269531), (datetime.datetime(2020, 3, 10, 4, 0), 276.2101135253906), (datetime.datetime(2020, 3, 11, 4, 0), 262.74530029296875), (datetime.datetime(2020, 3, 12, 4, 0), 237.60655212402344), (datetime.datetime(2020, 3, 13, 4, 0), 257.91864013671875), (datetime.datetime(2020, 3, 16, 4, 0), 229.69622802734375), (datetime.datetime(2020, 3, 17, 4, 0), 242.09803771972656), (datetime.datetime(2020, 3, 18, 4, 0), 229.83990478515625), (datetime.datetime(2020, 3, 19, 4, 0), 230.3282928466797), (datetime.datetime(2020, 3, 20, 4, 0), 220.40249633789062), (datetime.datetime(2020, 3, 23, 4, 0), 214.76719665527344), (datetime.datetime(2020, 3, 24, 4, 0), 234.22581481933594), (datetime.datetime(2020, 3, 25, 4, 0), 237.73220825195312), (datetime.datetime(2020, 3, 26, 4, 0), 251.61334228515625), (datetime.datetime(2020, 3, 27, 4, 0), 244.11888122558594), (datetime.datetime(2020, 3, 30, 4, 0), 252.0467987060547), (datetime.datetime(2020, 3, 31, 4, 0), 248.2899627685547), (datetime.datetime(2020, 4, 1, 4, 0), 237.11569213867188), (datetime.datetime(2020, 4, 2, 4, 0), 242.58721923828125), (datetime.datetime(2020, 4, 3, 4, 0), 239.08084106445312), (datetime.datetime(2020, 4, 6, 4, 0), 255.13897705078125), (datetime.datetime(2020, 4, 7, 4, 0), 255.39910888671875), (datetime.datetime(2020, 4, 8, 4, 0), 263.97247314453125), (datetime.datetime(2020, 4, 9, 4, 0), 267.9894104003906), (datetime.datetime(2020, 4, 13, 4, 0), 265.5426025390625), (datetime.datetime(2020, 4, 14, 4, 0), 273.374267578125), (datetime.datetime(2020, 4, 15, 4, 0), 267.5655212402344), (datetime.datetime(2020, 4, 16, 4, 0), 268.85638427734375), (datetime.datetime(2020, 4, 17, 4, 0), 276.1196594238281), (datetime.datetime(2020, 4, 20, 4, 0), 271.2549743652344), (datetime.datetime(2020, 4, 21, 4, 0), 263.0187683105469), (datetime.datetime(2020, 4, 22, 4, 0), 268.85638427734375), (datetime.datetime(2020, 4, 23, 4, 0), 268.8370361328125), (datetime.datetime(2020, 4, 24, 4, 0), 272.5843200683594), (datetime.datetime(2020, 4, 27, 4, 0), 276.5145568847656), (datetime.datetime(2020, 4, 28, 4, 0), 275.2430114746094), (datetime.datetime(2020, 4, 29, 4, 0), 282.4485168457031), (datetime.datetime(2020, 4, 30, 4, 0), 279.8186950683594), (datetime.datetime(2020, 5, 1, 4, 0), 272.4109191894531), (datetime.datetime(2020, 5, 4, 4, 0), 273.1623229980469), (datetime.datetime(2020, 5, 5, 4, 0), 275.6861572265625), (datetime.datetime(2020, 5, 6, 4, 0), 273.8173522949219), (datetime.datetime(2020, 5, 7, 4, 0), 277.1214294433594), (datetime.datetime(2020, 5, 8, 4, 0), 281.7067565917969), (datetime.datetime(2020, 5, 11, 4, 0), 281.7645263671875), (datetime.datetime(2020, 5, 12, 4, 0), 276.1485595703125), (datetime.datetime(2020, 5, 13, 4, 0), 271.2646484375), (datetime.datetime(2020, 5, 14, 4, 0), 274.5108947753906), (datetime.datetime(2020, 5, 15, 4, 0), 275.7727966308594), (datetime.datetime(2020, 5, 18, 4, 0), 284.1727600097656), (datetime.datetime(2020, 5, 19, 4, 0), 281.2540283203125), (datetime.datetime(2020, 5, 20, 4, 0), 286.03192138671875), (datetime.datetime(2020, 5, 21, 4, 0), 284.05718994140625), (datetime.datetime(2020, 5, 22, 4, 0), 284.59661865234375), (datetime.datetime(2020, 5, 26, 4, 0), 288.1030578613281), (datetime.datetime(2020, 5, 27, 4, 0), 292.38970947265625), (datetime.datetime(2020, 5, 28, 4, 0), 291.8502502441406), (datetime.datetime(2020, 5, 29, 4, 0), 293.15069580078125), (datetime.datetime(2020, 6, 1, 4, 0), 294.3356018066406), (datetime.datetime(2020, 6, 2, 4, 0), 296.772705078125), (datetime.datetime(2020, 6, 3, 4, 0), 300.72216796875), (datetime.datetime(2020, 6, 4, 4, 0), 299.93231201171875), (datetime.datetime(2020, 6, 5, 4, 0), 307.61944580078125), (datetime.datetime(2020, 6, 8, 4, 0), 311.3377685546875), (datetime.datetime(2020, 6, 9, 4, 0), 309.0162048339844), (datetime.datetime(2020, 6, 10, 4, 0), 307.29193115234375), (datetime.datetime(2020, 6, 11, 4, 0), 289.576904296875), (datetime.datetime(2020, 6, 12, 4, 0), 293.04473876953125), (datetime.datetime(2020, 6, 15, 4, 0), 295.780517578125), (datetime.datetime(2020, 6, 16, 4, 0), 301.4736022949219), (datetime.datetime(2020, 6, 17, 4, 0), 300.2213134765625), (datetime.datetime(2020, 6, 18, 4, 0), 300.3369140625), (datetime.datetime(2020, 6, 19, 4, 0), 298.6205139160156), (datetime.datetime(2020, 6, 22, 4, 0), 300.5362243652344), (datetime.datetime(2020, 6, 23, 4, 0), 301.9197998046875), (datetime.datetime(2020, 6, 24, 4, 0), 294.21826171875), (datetime.datetime(2020, 6, 25, 4, 0), 297.3724060058594), (datetime.datetime(2020, 6, 26, 4, 0), 290.309326171875), (datetime.datetime(2020, 6, 29, 4, 0), 294.5762023925781), (datetime.datetime(2020, 6, 30, 4, 0), 298.349609375), (datetime.datetime(2020, 7, 1, 4, 0), 300.43951416015625), (datetime.datetime(2020, 7, 2, 4, 0), 302.0940246582031), (datetime.datetime(2020, 7, 6, 4, 0), 306.7575378417969), (datetime.datetime(2020, 7, 7, 4, 0), 303.5936279296875), (datetime.datetime(2020, 7, 8, 4, 0), 305.91571044921875), (datetime.datetime(2020, 7, 9, 4, 0), 304.1741943359375), (datetime.datetime(2020, 7, 10, 4, 0), 307.27996826171875), (datetime.datetime(2020, 7, 13, 4, 0), 304.6192626953125), (datetime.datetime(2020, 7, 14, 4, 0), 308.5668029785156), (datetime.datetime(2020, 7, 15, 4, 0), 311.4017028808594), (datetime.datetime(2020, 7, 16, 4, 0), 310.3760681152344), (datetime.datetime(2020, 7, 17, 4, 0), 311.27587890625), (datetime.datetime(2020, 7, 20, 4, 0), 313.7915344238281), (datetime.datetime(2020, 7, 21, 4, 0), 314.4591369628906), (datetime.datetime(2020, 7, 22, 4, 0), 316.24908447265625), (datetime.datetime(2020, 7, 23, 4, 0), 312.47564697265625), (datetime.datetime(2020, 7, 24, 4, 0), 310.46319580078125), (datetime.datetime(2020, 7, 27, 4, 0), 312.7271728515625), (datetime.datetime(2020, 7, 28, 4, 0), 310.7437438964844), (datetime.datetime(2020, 7, 29, 4, 0), 314.56549072265625), (datetime.datetime(2020, 7, 30, 4, 0), 313.44317626953125), (datetime.datetime(2020, 7, 31, 4, 0), 315.9200744628906), (datetime.datetime(2020, 8, 3, 4, 0), 318.1163635253906), (datetime.datetime(2020, 8, 4, 4, 0), 319.3450927734375), (datetime.datetime(2020, 8, 5, 4, 0), 321.32861328125), (datetime.datetime(2020, 8, 6, 4, 0), 323.4765319824219), (datetime.datetime(2020, 8, 7, 4, 0), 323.70880126953125), (datetime.datetime(2020, 8, 10, 4, 0), 324.67626953125), (datetime.datetime(2020, 8, 11, 4, 0), 321.9961853027344), (datetime.datetime(2020, 8, 12, 4, 0), 326.4855651855469), (datetime.datetime(2020, 8, 13, 4, 0), 325.89532470703125), (datetime.datetime(2020, 8, 14, 4, 0), 325.9049987792969), (datetime.datetime(2020, 8, 17, 4, 0), 326.9403381347656), (datetime.datetime(2020, 8, 18, 4, 0), 327.6466369628906), (datetime.datetime(2020, 8, 19, 4, 0), 326.28240966796875), (datetime.datetime(2020, 8, 20, 4, 0), 327.29827880859375), (datetime.datetime(2020, 8, 21, 4, 0), 328.4593505859375), (datetime.datetime(2020, 8, 24, 4, 0), 331.7876892089844), (datetime.datetime(2020, 8, 25, 4, 0), 332.9487609863281), (datetime.datetime(2020, 8, 26, 4, 0), 336.28680419921875), (datetime.datetime(2020, 8, 27, 4, 0), 337.02203369140625), (datetime.datetime(2020, 8, 28, 4, 0), 339.1989440917969), (datetime.datetime(2020, 8, 31, 4, 0), 337.97021484375), (datetime.datetime(2020, 9, 1, 4, 0), 341.15338134765625), (datetime.datetime(2020, 9, 2, 4, 0), 346.08782958984375), (datetime.datetime(2020, 9, 3, 4, 0), 334.1775207519531), (datetime.datetime(2020, 9, 4, 4, 0), 331.4490051269531), (datetime.datetime(2020, 9, 8, 4, 0), 322.3928527832031), (datetime.datetime(2020, 9, 9, 4, 0), 328.75927734375), (datetime.datetime(2020, 9, 10, 4, 0), 323.05084228515625), (datetime.datetime(2020, 9, 11, 4, 0), 323.21527099609375), (datetime.datetime(2020, 9, 14, 4, 0), 327.472412109375), (datetime.datetime(2020, 9, 15, 4, 0), 329.126953125), (datetime.datetime(2020, 9, 16, 4, 0), 327.8208312988281), (datetime.datetime(2020, 9, 17, 4, 0), 324.9375), (datetime.datetime(2020, 9, 18, 4, 0), 321.19659423828125), (datetime.datetime(2020, 9, 21, 4, 0), 317.6217956542969), (datetime.datetime(2020, 9, 22, 4, 0), 320.85662841796875), (datetime.datetime(2020, 9, 23, 4, 0), 313.4156494140625), (datetime.datetime(2020, 9, 24, 4, 0), 314.25103759765625), (datetime.datetime(2020, 9, 25, 4, 0), 319.33154296875), (datetime.datetime(2020, 9, 28, 4, 0), 324.6354064941406), (datetime.datetime(2020, 9, 29, 4, 0), 322.8674621582031), (datetime.datetime(2020, 9, 30, 4, 0), 325.3154296875), (datetime.datetime(2020, 10, 1, 4, 0), 327.4039001464844), (datetime.datetime(2020, 10, 2, 4, 0), 324.29541015625), (datetime.datetime(2020, 10, 5, 4, 0), 330.046142578125), (datetime.datetime(2020, 10, 6, 4, 0), 325.3542785644531), (datetime.datetime(2020, 10, 7, 4, 0), 331.017578125), (datetime.datetime(2020, 10, 8, 4, 0), 333.9512023925781), (datetime.datetime(2020, 10, 9, 4, 0), 336.9334411621094), (datetime.datetime(2020, 10, 12, 4, 0), 342.3539123535156), (datetime.datetime(2020, 10, 13, 4, 0), 340.11968994140625), (datetime.datetime(2020, 10, 14, 4, 0), 337.9825439453125), (datetime.datetime(2020, 10, 15, 4, 0), 337.56488037109375), (datetime.datetime(2020, 10, 16, 4, 0), 337.3608703613281), (datetime.datetime(2020, 10, 19, 4, 0), 332.2318115234375), (datetime.datetime(2020, 10, 20, 4, 0), 333.5626525878906), (datetime.datetime(2020, 10, 21, 4, 0), 332.9312744140625), (datetime.datetime(2020, 10, 22, 4, 0), 334.7574462890625), (datetime.datetime(2020, 10, 23, 4, 0), 335.8940734863281), (datetime.datetime(2020, 10, 26, 4, 0), 329.686767578125), (datetime.datetime(2020, 10, 27, 4, 0), 328.5502014160156), (datetime.datetime(2020, 10, 28, 4, 0), 317.3206787109375), (datetime.datetime(2020, 10, 29, 4, 0), 320.5457763671875), (datetime.datetime(2020, 10, 30, 4, 0), 317.2041320800781), (datetime.datetime(2020, 11, 2, 5, 0), 320.7594909667969), (datetime.datetime(2020, 11, 3, 5, 0), 326.4227600097656), (datetime.datetime(2020, 11, 4, 5, 0), 333.71807861328125), (datetime.datetime(2020, 11, 5, 5, 0), 340.2265319824219), (datetime.datetime(2020, 11, 6, 5, 0), 340.1488037109375), (datetime.datetime(2020, 11, 9, 5, 0), 344.4230041503906), (datetime.datetime(2020, 11, 10, 5, 0), 343.9179382324219), (datetime.datetime(2020, 11, 11, 5, 0), 346.4727478027344), (datetime.datetime(2020, 11, 12, 5, 0), 343.11163330078125), (datetime.datetime(2020, 11, 13, 5, 0), 347.86181640625), (datetime.datetime(2020, 11, 16, 5, 0), 352.2039794921875), (datetime.datetime(2020, 11, 17, 5, 0), 350.3097229003906), (datetime.datetime(2020, 11, 18, 5, 0), 346.09381103515625), (datetime.datetime(2020, 11, 19, 5, 0), 347.5509338378906), (datetime.datetime(2020, 11, 20, 5, 0), 345.1709899902344), (datetime.datetime(2020, 11, 23, 5, 0), 347.2400817871094), (datetime.datetime(2020, 11, 24, 5, 0), 352.8354187011719), (datetime.datetime(2020, 11, 25, 5, 0), 352.2915344238281), (datetime.datetime(2020, 11, 27, 5, 0), 353.27264404296875), (datetime.datetime(2020, 11, 30, 5, 0), 351.7085876464844), (datetime.datetime(2020, 12, 1, 5, 0), 355.5553283691406), (datetime.datetime(2020, 12, 2, 5, 0), 356.3033752441406), (datetime.datetime(2020, 12, 3, 5, 0), 356.2062072753906), (datetime.datetime(2020, 12, 4, 5, 0), 359.27587890625), (datetime.datetime(2020, 12, 7, 5, 0), 358.5375671386719), (datetime.datetime(2020, 12, 8, 5, 0), 359.58673095703125), (datetime.datetime(2020, 12, 9, 5, 0), 356.36163330078125), (datetime.datetime(2020, 12, 10, 5, 0), 356.2450866699219), (datetime.datetime(2020, 12, 11, 5, 0), 355.827392578125), (datetime.datetime(2020, 12, 14, 5, 0), 354.2342529296875), (datetime.datetime(2020, 12, 15, 5, 0), 359.0233459472656), (datetime.datetime(2020, 12, 16, 5, 0), 359.58673095703125), (datetime.datetime(2020, 12, 17, 5, 0), 361.5975341796875), (datetime.datetime(2020, 12, 18, 5, 0), 360.1537170410156), (datetime.datetime(2020, 12, 21, 5, 0), 358.8659973144531), (datetime.datetime(2020, 12, 22, 5, 0), 358.2611389160156), (datetime.datetime(2020, 12, 23, 5, 0), 358.5830993652344), (datetime.datetime(2020, 12, 24, 5, 0), 359.97808837890625), (datetime.datetime(2020, 12, 28, 5, 0), 363.07061767578125), (datetime.datetime(2020, 12, 29, 5, 0), 362.3779602050781), (datetime.datetime(2020, 12, 30, 5, 0), 362.89501953125), (datetime.datetime(2020, 12, 31, 5, 0), 364.73883056640625), (datetime.datetime(2021, 1, 4, 5, 0), 359.77325439453125), (datetime.datetime(2021, 1, 5, 5, 0), 362.2511291503906), (datetime.datetime(2021, 1, 6, 5, 0), 364.4168395996094), (datetime.datetime(2021, 1, 7, 5, 0), 369.8311767578125), (datetime.datetime(2021, 1, 8, 5, 0), 371.9383850097656), (datetime.datetime(2021, 1, 11, 5, 0), 369.4312438964844), (datetime.datetime(2021, 1, 12, 5, 0), 369.5092468261719), (datetime.datetime(2021, 1, 13, 5, 0), 370.50433349609375), (datetime.datetime(2021, 1, 14, 5, 0), 369.20684814453125), (datetime.datetime(2021, 1, 15, 5, 0), 366.5143127441406), (datetime.datetime(2021, 1, 19, 5, 0), 369.3921813964844), (datetime.datetime(2021, 1, 20, 5, 0), 374.50408935546875), (datetime.datetime(2021, 1, 21, 5, 0), 374.8454895019531), (datetime.datetime(2021, 1, 22, 5, 0), 373.5187683105469), (datetime.datetime(2021, 1, 25, 5, 0), 374.99188232421875), (datetime.datetime(2021, 1, 26, 5, 0), 374.4065246582031), (datetime.datetime(2021, 1, 27, 5, 0), 365.255859375), (datetime.datetime(2021, 1, 28, 5, 0), 368.39715576171875), (datetime.datetime(2021, 1, 29, 5, 0), 361.0220031738281), (datetime.datetime(2021, 2, 1, 5, 0), 367.0314025878906), (datetime.datetime(2021, 2, 2, 5, 0), 372.2212829589844), (datetime.datetime(2021, 2, 3, 5, 0), 372.5139465332031), (datetime.datetime(2021, 2, 4, 5, 0), 376.74786376953125), (datetime.datetime(2021, 2, 5, 5, 0), 378.23065185546875), (datetime.datetime(2021, 2, 8, 5, 0), 380.96221923828125), (datetime.datetime(2021, 2, 9, 5, 0), 380.70855712890625), (datetime.datetime(2021, 2, 10, 5, 0), 380.542724609375), (datetime.datetime(2021, 2, 11, 5, 0), 381.15728759765625), (datetime.datetime(2021, 2, 12, 5, 0), 383.0401306152344), (datetime.datetime(2021, 2, 16, 5, 0), 382.70843505859375), (datetime.datetime(2021, 2, 17, 5, 0), 382.7962646484375), (datetime.datetime(2021, 2, 18, 5, 0), 381.16705322265625), (datetime.datetime(2021, 2, 19, 5, 0), 380.49395751953125), (datetime.datetime(2021, 2, 22, 5, 0), 377.5672912597656), (datetime.datetime(2021, 2, 23, 5, 0), 378.0257873535156), (datetime.datetime(2021, 2, 24, 5, 0), 382.19140625), (datetime.datetime(2021, 2, 25, 5, 0), 372.9822082519531), (datetime.datetime(2021, 2, 26, 5, 0), 371.06036376953125), (datetime.datetime(2021, 3, 1, 5, 0), 380.0549621582031), (datetime.datetime(2021, 3, 2, 5, 0), 377.0892639160156), (datetime.datetime(2021, 3, 3, 5, 0), 372.094482421875), (datetime.datetime(2021, 3, 4, 5, 0), 367.4898681640625), (datetime.datetime(2021, 3, 5, 5, 0), 374.2504577636719), (datetime.datetime(2021, 3, 8, 5, 0), 372.3871154785156), (datetime.datetime(2021, 3, 9, 5, 0), 377.70391845703125), (datetime.datetime(2021, 3, 10, 5, 0), 380.0549621582031), (datetime.datetime(2021, 3, 11, 5, 0), 383.9084167480469), (datetime.datetime(2021, 3, 12, 5, 0), 384.4253845214844), (datetime.datetime(2021, 3, 15, 4, 0), 386.71795654296875), (datetime.datetime(2021, 3, 16, 4, 0), 386.2301940917969), (datetime.datetime(2021, 3, 17, 4, 0), 387.54718017578125), (datetime.datetime(2021, 3, 18, 4, 0), 381.90850830078125), (datetime.datetime(2021, 3, 19, 4, 0), 381.201904296875), (datetime.datetime(2021, 3, 22, 4, 0), 384.2457275390625), (datetime.datetime(2021, 3, 23, 4, 0), 381.2214660644531), (datetime.datetime(2021, 3, 24, 4, 0), 379.28350830078125), (datetime.datetime(2021, 3, 25, 4, 0), 381.4172058105469), (datetime.datetime(2021, 3, 26, 4, 0), 387.563720703125), (datetime.datetime(2021, 3, 29, 4, 0), 387.3679504394531), (datetime.datetime(2021, 3, 30, 4, 0), 386.3402404785156), (datetime.datetime(2021, 3, 31, 4, 0), 387.90625), (datetime.datetime(2021, 4, 1, 4, 0), 392.09527587890625), (datetime.datetime(2021, 4, 5, 4, 0), 397.72308349609375), (datetime.datetime(2021, 4, 6, 4, 0), 397.48822021484375), (datetime.datetime(2021, 4, 7, 4, 0), 397.94818115234375), (datetime.datetime(2021, 4, 8, 4, 0), 399.837158203125), (datetime.datetime(2021, 4, 9, 4, 0), 402.7440490722656), (datetime.datetime(2021, 4, 12, 4, 0), 402.890869140625), (datetime.datetime(2021, 4, 13, 4, 0), 404.08489990234375), (datetime.datetime(2021, 4, 14, 4, 0), 402.70489501953125), (datetime.datetime(2021, 4, 15, 4, 0), 407.0309143066406), (datetime.datetime(2021, 4, 16, 4, 0), 408.39141845703125), (datetime.datetime(2021, 4, 19, 4, 0), 406.38494873046875), (datetime.datetime(2021, 4, 20, 4, 0), 403.4095764160156), (datetime.datetime(2021, 4, 21, 4, 0), 407.2266845703125), (datetime.datetime(2021, 4, 22, 4, 0), 403.5074768066406), (datetime.datetime(2021, 4, 23, 4, 0), 407.8824157714844), (datetime.datetime(2021, 4, 26, 4, 0), 408.7339782714844), (datetime.datetime(2021, 4, 27, 4, 0), 408.6458740234375), (datetime.datetime(2021, 4, 28, 4, 0), 408.5284423828125), (datetime.datetime(2021, 4, 29, 4, 0), 411.13189697265625), (datetime.datetime(2021, 4, 30, 4, 0), 408.4305419921875), (datetime.datetime(2021, 5, 3, 4, 0), 409.3114318847656), (datetime.datetime(2021, 5, 4, 4, 0), 406.7862548828125), (datetime.datetime(2021, 5, 5, 4, 0), 406.91351318359375), (datetime.datetime(2021, 5, 6, 4, 0), 410.16290283203125), (datetime.datetime(2021, 5, 7, 4, 0), 413.1480712890625), (datetime.datetime(2021, 5, 10, 4, 0), 409.05694580078125), (datetime.datetime(2021, 5, 11, 4, 0), 405.40625), (datetime.datetime(2021, 5, 12, 4, 0), 396.79327392578125), (datetime.datetime(2021, 5, 13, 4, 0), 401.55975341796875), (datetime.datetime(2021, 5, 14, 4, 0), 407.725830078125), (datetime.datetime(2021, 5, 17, 4, 0), 406.6883850097656), (datetime.datetime(2021, 5, 18, 4, 0), 403.18450927734375), (datetime.datetime(2021, 5, 19, 4, 0), 402.1274108886719), (datetime.datetime(2021, 5, 20, 4, 0), 406.4534912109375), (datetime.datetime(2021, 5, 21, 4, 0), 406.1206970214844), (datetime.datetime(2021, 5, 24, 4, 0), 410.26080322265625), (datetime.datetime(2021, 5, 25, 4, 0), 409.3505554199219), (datetime.datetime(2021, 5, 26, 4, 0), 410.16290283203125), (datetime.datetime(2021, 5, 27, 4, 0), 410.3782043457031), (datetime.datetime(2021, 5, 28, 4, 0), 411.1123046875), (datetime.datetime(2021, 6, 1, 4, 0), 410.7502136230469), (datetime.datetime(2021, 6, 2, 4, 0), 411.3961486816406), (datetime.datetime(2021, 6, 3, 4, 0), 409.8692932128906), (datetime.datetime(2021, 6, 4, 4, 0), 413.617919921875), (datetime.datetime(2021, 6, 7, 4, 0), 413.2166442871094), (datetime.datetime(2021, 6, 8, 4, 0), 413.30474853515625), (datetime.datetime(2021, 6, 9, 4, 0), 412.68804931640625), (datetime.datetime(2021, 6, 10, 4, 0), 414.6064147949219), (datetime.datetime(2021, 6, 11, 4, 0), 415.2915344238281), (datetime.datetime(2021, 6, 14, 4, 0), 416.22137451171875), (datetime.datetime(2021, 6, 15, 4, 0), 415.45794677734375), (datetime.datetime(2021, 6, 16, 4, 0), 413.1382751464844), (datetime.datetime(2021, 6, 17, 4, 0), 413.00128173828125), (datetime.datetime(2021, 6, 18, 4, 0), 407.42974853515625), (datetime.datetime(2021, 6, 21, 4, 0), 413.26251220703125), (datetime.datetime(2021, 6, 22, 4, 0), 415.4718933105469), (datetime.datetime(2021, 6, 23, 4, 0), 414.9710998535156), (datetime.datetime(2021, 6, 24, 4, 0), 417.42596435546875), (datetime.datetime(2021, 6, 25, 4, 0), 418.9086608886719), (datetime.datetime(2021, 6, 28, 4, 0), 419.7531433105469), (datetime.datetime(2021, 6, 29, 4, 0), 419.9790344238281), (datetime.datetime(2021, 6, 30, 4, 0), 420.33251953125), (datetime.datetime(2021, 7, 1, 4, 0), 422.65972900390625), (datetime.datetime(2021, 7, 2, 4, 0), 425.89031982421875), (datetime.datetime(2021, 7, 6, 4, 0), 425.1145935058594), (datetime.datetime(2021, 7, 7, 4, 0), 426.6169738769531), (datetime.datetime(2021, 7, 8, 4, 0), 423.140869140625), (datetime.datetime(2021, 7, 9, 4, 0), 427.6578063964844), (datetime.datetime(2021, 7, 12, 4, 0), 429.1896667480469), (datetime.datetime(2021, 7, 13, 4, 0), 427.7265625), (datetime.datetime(2021, 7, 14, 4, 0), 428.3648376464844), (datetime.datetime(2021, 7, 15, 4, 0), 426.9017333984375), (datetime.datetime(2021, 7, 16, 4, 0), 423.5532531738281), (datetime.datetime(2021, 7, 19, 4, 0), 417.2983093261719), (datetime.datetime(2021, 7, 20, 4, 0), 423.2783508300781), (datetime.datetime(2021, 7, 21, 4, 0), 426.7053527832031), (datetime.datetime(2021, 7, 22, 4, 0), 427.5989074707031), (datetime.datetime(2021, 7, 23, 4, 0), 431.9980773925781), (datetime.datetime(2021, 7, 26, 4, 0), 433.0585632324219), (datetime.datetime(2021, 7, 27, 4, 0), 431.0848693847656), (datetime.datetime(2021, 7, 28, 4, 0), 430.9081115722656), (datetime.datetime(2021, 7, 29, 4, 0), 432.6952209472656), (datetime.datetime(2021, 7, 30, 4, 0), 430.5939025878906), (datetime.datetime(2021, 8, 2, 4, 0), 429.69049072265625), (datetime.datetime(2021, 8, 3, 4, 0), 433.18621826171875), (datetime.datetime(2021, 8, 4, 4, 0), 431.0553894042969), (datetime.datetime(2021, 8, 5, 4, 0), 433.78521728515625), (datetime.datetime(2021, 8, 6, 4, 0), 434.5020446777344), (datetime.datetime(2021, 8, 9, 4, 0), 434.1485290527344), (datetime.datetime(2021, 8, 10, 4, 0), 434.6885986328125), (datetime.datetime(2021, 8, 11, 4, 0), 435.7687683105469), (datetime.datetime(2021, 8, 12, 4, 0), 437.07476806640625), (datetime.datetime(2021, 8, 13, 4, 0), 437.8701171875), (datetime.datetime(2021, 8, 16, 4, 0), 438.9011535644531), (datetime.datetime(2021, 8, 17, 4, 0), 436.0240478515625), (datetime.datetime(2021, 8, 18, 4, 0), 431.2518005371094), (datetime.datetime(2021, 8, 19, 4, 0), 431.91949462890625), (datetime.datetime(2021, 8, 20, 4, 0), 435.3563537597656), (datetime.datetime(2021, 8, 23, 4, 0), 439.18597412109375), (datetime.datetime(2021, 8, 24, 4, 0), 439.8830871582031), (datetime.datetime(2021, 8, 25, 4, 0), 440.80615234375), (datetime.datetime(2021, 8, 26, 4, 0), 438.2039794921875), (datetime.datetime(2021, 8, 27, 4, 0), 442.1219482421875), (datetime.datetime(2021, 8, 30, 4, 0), 444.0661926269531), (datetime.datetime(2021, 8, 31, 4, 0), 443.4082946777344), (datetime.datetime(2021, 9, 1, 4, 0), 443.6439514160156), (datetime.datetime(2021, 9, 2, 4, 0), 445.0088806152344), (datetime.datetime(2021, 9, 3, 4, 0), 444.9008483886719), (datetime.datetime(2021, 9, 7, 4, 0), 443.31011962890625), (datetime.datetime(2021, 9, 8, 4, 0), 442.7700500488281), (datetime.datetime(2021, 9, 9, 4, 0), 440.8749084472656), (datetime.datetime(2021, 9, 10, 4, 0), 437.3987731933594), (datetime.datetime(2021, 9, 13, 4, 0), 438.5181884765625), (datetime.datetime(2021, 9, 14, 4, 0), 436.1517333984375), (datetime.datetime(2021, 9, 15, 4, 0), 439.79473876953125), (datetime.datetime(2021, 9, 16, 4, 0), 439.0975341796875), (datetime.datetime(2021, 9, 17, 4, 0), 434.82025146484375), (datetime.datetime(2021, 9, 20, 4, 0), 427.57000732421875), (datetime.datetime(2021, 9, 21, 4, 0), 427.16607666015625), (datetime.datetime(2021, 9, 22, 4, 0), 431.3330078125), (datetime.datetime(2021, 9, 23, 4, 0), 436.57373046875), (datetime.datetime(2021, 9, 24, 4, 0), 437.2928771972656), (datetime.datetime(2021, 9, 27, 4, 0), 436.04180908203125), (datetime.datetime(2021, 9, 28, 4, 0), 427.2547607421875), (datetime.datetime(2021, 9, 29, 4, 0), 427.973876953125), (datetime.datetime(2021, 9, 30, 4, 0), 422.7430419921875), (datetime.datetime(2021, 10, 1, 4, 0), 427.7669677734375), (datetime.datetime(2021, 10, 4, 4, 0), 422.25048828125), (datetime.datetime(2021, 10, 5, 4, 0), 426.6440124511719), (datetime.datetime(2021, 10, 6, 4, 0), 428.4171447753906), (datetime.datetime(2021, 10, 7, 4, 0), 432.12109375), (datetime.datetime(2021, 10, 8, 4, 0), 431.3330078125), (datetime.datetime(2021, 10, 11, 4, 0), 428.2102966308594), (datetime.datetime(2021, 10, 12, 4, 0), 427.15625), (datetime.datetime(2021, 10, 13, 4, 0), 428.6929626464844), (datetime.datetime(2021, 10, 14, 4, 0), 435.90386962890625), (datetime.datetime(2021, 10, 15, 4, 0), 439.2236022949219), (datetime.datetime(2021, 10, 18, 4, 0), 440.52398681640625), (datetime.datetime(2021, 10, 19, 4, 0), 443.92254638671875), (datetime.datetime(2021, 10, 20, 4, 0), 445.6661682128906), (datetime.datetime(2021, 10, 21, 4, 0), 446.8285827636719), (datetime.datetime(2021, 10, 22, 4, 0), 446.3655700683594), (datetime.datetime(2021, 10, 25, 4, 0), 448.75933837890625), (datetime.datetime(2021, 10, 26, 4, 0), 449.1632080078125), (datetime.datetime(2021, 10, 27, 4, 0), 447.1733703613281), (datetime.datetime(2021, 10, 28, 4, 0), 451.4880676269531), (datetime.datetime(2021, 10, 29, 4, 0), 452.4042053222656), (datetime.datetime(2021, 11, 1, 4, 0), 453.18243408203125), (datetime.datetime(2021, 11, 2, 4, 0), 455.0146789550781), (datetime.datetime(2021, 11, 3, 4, 0), 457.79266357421875), (datetime.datetime(2021, 11, 4, 4, 0), 459.95001220703125), (datetime.datetime(2021, 11, 5, 4, 0), 461.5458679199219), (datetime.datetime(2021, 11, 8, 5, 0), 461.93988037109375), (datetime.datetime(2021, 11, 9, 5, 0), 460.4129943847656), (datetime.datetime(2021, 11, 10, 5, 0), 456.7090759277344), (datetime.datetime(2021, 11, 11, 5, 0), 456.8568420410156), (datetime.datetime(2021, 11, 12, 5, 0), 460.30462646484375), (datetime.datetime(2021, 11, 15, 5, 0), 460.4622802734375), (datetime.datetime(2021, 11, 16, 5, 0), 462.28466796875), (datetime.datetime(2021, 11, 17, 5, 0), 461.1617126464844), (datetime.datetime(2021, 11, 18, 5, 0), 462.7279968261719), (datetime.datetime(2021, 11, 19, 5, 0), 461.9005432128906), (datetime.datetime(2021, 11, 22, 5, 0), 460.6001892089844), (datetime.datetime(2021, 11, 23, 5, 0), 461.2109680175781), (datetime.datetime(2021, 11, 24, 5, 0), 462.4422607421875), (datetime.datetime(2021, 11, 26, 5, 0), 452.12835693359375), (datetime.datetime(2021, 11, 29, 5, 0), 457.6744689941406), (datetime.datetime(2021, 11, 30, 5, 0), 448.76922607421875), (datetime.datetime(2021, 12, 1, 5, 0), 443.7846374511719), (datetime.datetime(2021, 12, 2, 5, 0), 450.5817565917969), (datetime.datetime(2021, 12, 3, 5, 0), 446.6611022949219), (datetime.datetime(2021, 12, 6, 5, 0), 451.9510498046875), (datetime.datetime(2021, 12, 7, 5, 0), 461.29962158203125), (datetime.datetime(2021, 12, 8, 5, 0), 462.5210876464844), (datetime.datetime(2021, 12, 9, 5, 0), 459.3983459472656), (datetime.datetime(2021, 12, 10, 5, 0), 463.722900390625), (datetime.datetime(2021, 12, 13, 5, 0), 459.6150817871094), (datetime.datetime(2021, 12, 14, 5, 0), 456.4529113769531), (datetime.datetime(2021, 12, 15, 5, 0), 463.58502197265625), (datetime.datetime(2021, 12, 16, 5, 0), 459.49688720703125), (datetime.datetime(2021, 12, 17, 5, 0), 454.6064758300781), (datetime.datetime(2021, 12, 20, 5, 0), 449.7724609375), (datetime.datetime(2021, 12, 21, 5, 0), 457.760009765625), (datetime.datetime(2021, 12, 22, 5, 0), 462.3370056152344), (datetime.datetime(2021, 12, 23, 5, 0), 465.21368408203125), (datetime.datetime(2021, 12, 27, 5, 0), 471.7974548339844), (datetime.datetime(2021, 12, 28, 5, 0), 471.4118957519531), (datetime.datetime(2021, 12, 29, 5, 0), 472.01495361328125), (datetime.datetime(2021, 12, 30, 5, 0), 470.7100524902344), (datetime.datetime(2021, 12, 31, 5, 0), 469.5237731933594), (datetime.datetime(2022, 1, 3, 5, 0), 472.2423095703125), (datetime.datetime(2022, 1, 4, 5, 0), 472.0841369628906), (datetime.datetime(2022, 1, 5, 5, 0), 463.0191345214844), (datetime.datetime(2022, 1, 6, 5, 0), 462.5841369628906), (datetime.datetime(2022, 1, 7, 5, 0), 460.75531005859375), (datetime.datetime(2022, 1, 10, 5, 0), 460.1819763183594), (datetime.datetime(2022, 1, 11, 5, 0), 464.3734436035156), (datetime.datetime(2022, 1, 12, 5, 0), 465.6288757324219), (datetime.datetime(2022, 1, 13, 5, 0), 459.213134765625), (datetime.datetime(2022, 1, 14, 5, 0), 459.4010009765625), (datetime.datetime(2022, 1, 18, 5, 0), 451.26519775390625), (datetime.datetime(2022, 1, 19, 5, 0), 446.5794372558594), (datetime.datetime(2022, 1, 20, 5, 0), 441.63665771484375), (datetime.datetime(2022, 1, 21, 5, 0), 432.967041015625), (datetime.datetime(2022, 1, 24, 5, 0), 434.8057556152344), (datetime.datetime(2022, 1, 25, 5, 0), 429.4972229003906), (datetime.datetime(2022, 1, 26, 5, 0), 428.4197082519531), (datetime.datetime(2022, 1, 27, 5, 0), 426.3041687011719), (datetime.datetime(2022, 1, 28, 5, 0), 436.8916015625), (datetime.datetime(2022, 1, 31, 5, 0), 444.760498046875), (datetime.datetime(2022, 2, 1, 5, 0), 447.76568603515625), (datetime.datetime(2022, 2, 2, 5, 0), 452.1153564453125), (datetime.datetime(2022, 2, 3, 5, 0), 441.4884033203125), (datetime.datetime(2022, 2, 4, 5, 0), 443.5643310546875), (datetime.datetime(2022, 2, 7, 5, 0), 442.1408386230469), (datetime.datetime(2022, 2, 8, 5, 0), 445.7787170410156), (datetime.datetime(2022, 2, 9, 5, 0), 452.3031921386719), (datetime.datetime(2022, 2, 10, 5, 0), 444.1772766113281), (datetime.datetime(2022, 2, 11, 5, 0), 435.41864013671875), (datetime.datetime(2022, 2, 14, 5, 0), 433.9951171875), (datetime.datetime(2022, 2, 15, 5, 0), 440.9941101074219), (datetime.datetime(2022, 2, 16, 5, 0), 441.4884033203125), (datetime.datetime(2022, 2, 17, 5, 0), 432.0575866699219), (datetime.datetime(2022, 2, 18, 5, 0), 429.2599792480469), (datetime.datetime(2022, 2, 22, 5, 0), 424.6533203125), (datetime.datetime(2022, 2, 23, 5, 0), 417.12054443359375), (datetime.datetime(2022, 2, 24, 5, 0), 423.3978271484375), (datetime.datetime(2022, 2, 25, 5, 0), 432.73968505859375), (datetime.datetime(2022, 2, 28, 5, 0), 431.63250732421875), (datetime.datetime(2022, 3, 1, 5, 0), 425.0586242675781), (datetime.datetime(2022, 3, 2, 5, 0), 432.8780822753906), (datetime.datetime(2022, 3, 3, 5, 0), 430.7229919433594), (datetime.datetime(2022, 3, 4, 5, 0), 427.22357177734375), (datetime.datetime(2022, 3, 7, 5, 0), 414.6293640136719), (datetime.datetime(2022, 3, 8, 5, 0), 411.48577880859375), (datetime.datetime(2022, 3, 9, 5, 0), 422.5180358886719), (datetime.datetime(2022, 3, 10, 5, 0), 420.6101379394531), (datetime.datetime(2022, 3, 11, 5, 0), 415.2620544433594), (datetime.datetime(2022, 3, 14, 4, 0), 412.2271728515625), (datetime.datetime(2022, 3, 15, 4, 0), 421.292236328125), (datetime.datetime(2022, 3, 16, 4, 0), 430.634033203125), (datetime.datetime(2022, 3, 17, 4, 0), 436.0216979980469), (datetime.datetime(2022, 3, 18, 4, 0), 440.7973327636719), (datetime.datetime(2022, 3, 21, 4, 0), 440.66845703125), (datetime.datetime(2022, 3, 22, 4, 0), 445.82489013671875), (datetime.datetime(2022, 3, 23, 4, 0), 440.0833435058594), (datetime.datetime(2022, 3, 24, 4, 0), 446.7173156738281), (datetime.datetime(2022, 3, 25, 4, 0), 448.89892578125), (datetime.datetime(2022, 3, 28, 4, 0), 452.0919494628906), (datetime.datetime(2022, 3, 29, 4, 0), 457.6846923828125), (datetime.datetime(2022, 3, 30, 4, 0), 454.8586120605469), (datetime.datetime(2022, 3, 31, 4, 0), 447.85772705078125), (datetime.datetime(2022, 4, 1, 4, 0), 449.12701416015625), (datetime.datetime(2022, 4, 4, 4, 0), 452.9744873046875), (datetime.datetime(2022, 4, 5, 4, 0), 447.2528076171875), (datetime.datetime(2022, 4, 6, 4, 0), 442.78057861328125), (datetime.datetime(2022, 4, 7, 4, 0), 445.0117492675781), (datetime.datetime(2022, 4, 8, 4, 0), 443.8218078613281), (datetime.datetime(2022, 4, 11, 4, 0), 436.2358703613281), (datetime.datetime(2022, 4, 12, 4, 0), 434.6195373535156), (datetime.datetime(2022, 4, 13, 4, 0), 439.59747314453125), (datetime.datetime(2022, 4, 14, 4, 0), 434.12371826171875), (datetime.datetime(2022, 4, 18, 4, 0), 434.3022155761719), (datetime.datetime(2022, 4, 19, 4, 0), 441.31298828125), (datetime.datetime(2022, 4, 20, 4, 0), 440.9857482910156), (datetime.datetime(2022, 4, 21, 4, 0), 434.3914489746094), (datetime.datetime(2022, 4, 22, 4, 0), 422.47210693359375), (datetime.datetime(2022, 4, 25, 4, 0), 424.9214172363281), (datetime.datetime(2022, 4, 26, 4, 0), 412.6153564453125), (datetime.datetime(2022, 4, 27, 4, 0), 413.7755432128906), (datetime.datetime(2022, 4, 28, 4, 0), 424.227294921875), (datetime.datetime(2022, 4, 29, 4, 0), 408.5496826171875), (datetime.datetime(2022, 5, 2, 4, 0), 411.0089111328125), (datetime.datetime(2022, 5, 3, 4, 0), 412.89300537109375), (datetime.datetime(2022, 5, 4, 4, 0), 425.4668273925781), (datetime.datetime(2022, 5, 5, 4, 0), 410.3445129394531), (datetime.datetime(2022, 5, 6, 4, 0), 407.89520263671875), (datetime.datetime(2022, 5, 9, 4, 0), 394.83551025390625), (datetime.datetime(2022, 5, 10, 4, 0), 395.7477722167969), (datetime.datetime(2022, 5, 11, 4, 0), 389.46087646484375), (datetime.datetime(2022, 5, 12, 4, 0), 389.0543212890625), (datetime.datetime(2022, 5, 13, 4, 0), 398.35577392578125), (datetime.datetime(2022, 5, 16, 4, 0), 396.73944091796875), (datetime.datetime(2022, 5, 17, 4, 0), 404.9005126953125), (datetime.datetime(2022, 5, 18, 4, 0), 388.57830810546875), (datetime.datetime(2022, 5, 19, 4, 0), 386.1984558105469), (datetime.datetime(2022, 5, 20, 4, 0), 386.3670349121094), (datetime.datetime(2022, 5, 23, 4, 0), 393.5959777832031), (datetime.datetime(2022, 5, 24, 4, 0), 390.5913391113281), (datetime.datetime(2022, 5, 25, 4, 0), 394.0422058105469), (datetime.datetime(2022, 5, 26, 4, 0), 401.91571044921875), (datetime.datetime(2022, 5, 27, 4, 0), 411.7823791503906), (datetime.datetime(2022, 5, 31, 4, 0), 409.4718933105469), (datetime.datetime(2022, 6, 1, 4, 0), 406.1598815917969), (datetime.datetime(2022, 6, 2, 4, 0), 413.8945617675781), (datetime.datetime(2022, 6, 3, 4, 0), 407.1019287109375), (datetime.datetime(2022, 6, 6, 4, 0), 408.3414611816406), (datetime.datetime(2022, 6, 7, 4, 0), 412.25836181640625), (datetime.datetime(2022, 6, 8, 4, 0), 407.7762145996094), (datetime.datetime(2022, 6, 9, 4, 0), 398.078125), (datetime.datetime(2022, 6, 10, 4, 0), 386.53558349609375), (datetime.datetime(2022, 6, 13, 4, 0), 371.85955810546875), (datetime.datetime(2022, 6, 14, 4, 0), 370.739013671875), (datetime.datetime(2022, 6, 15, 4, 0), 376.0243835449219), (datetime.datetime(2022, 6, 16, 4, 0), 363.5794677734375), (datetime.datetime(2022, 6, 17, 4, 0), 364.3632507324219), (datetime.datetime(2022, 6, 21, 4, 0), 373.53558349609375), (datetime.datetime(2022, 6, 22, 4, 0), 372.8583679199219), (datetime.datetime(2022, 6, 23, 4, 0), 376.5133361816406), (datetime.datetime(2022, 6, 24, 4, 0), 388.4841613769531), (datetime.datetime(2022, 6, 27, 4, 0), 387.0002746582031), (datetime.datetime(2022, 6, 28, 4, 0), 379.0927429199219), (datetime.datetime(2022, 6, 29, 4, 0), 378.7840270996094), (datetime.datetime(2022, 6, 30, 4, 0), 375.7066650390625), (datetime.datetime(2022, 7, 1, 4, 0), 379.6803283691406), (datetime.datetime(2022, 7, 5, 4, 0), 380.3973693847656), (datetime.datetime(2022, 7, 6, 4, 0), 381.68212890625), (datetime.datetime(2022, 7, 7, 4, 0), 387.39862060546875), (datetime.datetime(2022, 7, 8, 4, 0), 387.0799560546875), (datetime.datetime(2022, 7, 11, 4, 0), 382.6581115722656), (datetime.datetime(2022, 7, 12, 4, 0), 379.2720031738281), (datetime.datetime(2022, 7, 13, 4, 0), 377.2801818847656), (datetime.datetime(2022, 7, 14, 4, 0), 376.36395263671875), (datetime.datetime(2022, 7, 15, 4, 0), 383.554443359375), (datetime.datetime(2022, 7, 18, 4, 0), 380.387451171875), (datetime.datetime(2022, 7, 19, 4, 0), 390.6651916503906), (datetime.datetime(2022, 7, 20, 4, 0), 393.15496826171875), (datetime.datetime(2022, 7, 21, 4, 0), 397.1585388183594), (datetime.datetime(2022, 7, 22, 4, 0), 393.4736633300781), (datetime.datetime(2022, 7, 25, 4, 0), 393.95172119140625), (datetime.datetime(2022, 7, 26, 4, 0), 389.2908630371094), (datetime.datetime(2022, 7, 27, 4, 0), 399.39935302734375), (datetime.datetime(2022, 7, 28, 4, 0), 404.40875244140625), (datetime.datetime(2022, 7, 29, 4, 0), 410.3045349121094), (datetime.datetime(2022, 8, 1, 4, 0), 409.0895080566406), (datetime.datetime(2022, 8, 2, 4, 0), 406.390625), (datetime.datetime(2022, 8, 3, 4, 0), 412.7544860839844), (datetime.datetime(2022, 8, 4, 4, 0), 412.47564697265625), (datetime.datetime(2022, 8, 5, 4, 0), 411.7784729003906), (datetime.datetime(2022, 8, 8, 4, 0), 411.3004455566406), (datetime.datetime(2022, 8, 9, 4, 0), 409.66717529296875), (datetime.datetime(2022, 8, 10, 4, 0), 418.27178955078125), (datetime.datetime(2022, 8, 11, 4, 0), 418.27178955078125), (datetime.datetime(2022, 8, 12, 4, 0), 425.35272216796875), (datetime.datetime(2022, 8, 15, 4, 0), 427.1054992675781), (datetime.datetime(2022, 8, 16, 4, 0), 427.9421081542969), (datetime.datetime(2022, 8, 17, 4, 0), 424.9045715332031), (datetime.datetime(2022, 8, 18, 4, 0), 426.1394958496094), (datetime.datetime(2022, 8, 19, 4, 0), 420.41302490234375), (datetime.datetime(2022, 8, 22, 4, 0), 411.6589660644531), (datetime.datetime(2022, 8, 23, 4, 0), 410.6630859375), (datetime.datetime(2022, 8, 24, 4, 0), 411.9776916503906), (datetime.datetime(2022, 8, 25, 4, 0), 417.7937927246094), (datetime.datetime(2022, 8, 26, 4, 0), 403.65185546875), (datetime.datetime(2022, 8, 29, 4, 0), 400.98284912109375), (datetime.datetime(2022, 8, 30, 4, 0), 396.5809020996094), (datetime.datetime(2022, 8, 31, 4, 0), 393.56329345703125), (datetime.datetime(2022, 9, 1, 4, 0), 394.7982482910156), (datetime.datetime(2022, 9, 2, 4, 0), 390.63531494140625), (datetime.datetime(2022, 9, 6, 4, 0), 389.1614074707031), (datetime.datetime(2022, 9, 7, 4, 0), 396.1526794433594), (datetime.datetime(2022, 9, 8, 4, 0), 398.7420349121094), (datetime.datetime(2022, 9, 9, 4, 0), 404.93658447265625), (datetime.datetime(2022, 9, 12, 4, 0), 409.2887268066406), (datetime.datetime(2022, 9, 13, 4, 0), 391.4918212890625), (datetime.datetime(2022, 9, 14, 4, 0), 392.9856872558594), (datetime.datetime(2022, 9, 15, 4, 0), 388.5240173339844), (datetime.datetime(2022, 9, 16, 4, 0), 385.55999755859375), (datetime.datetime(2022, 9, 19, 4, 0), 388.54998779296875), (datetime.datetime(2022, 9, 20, 4, 0), 384.0899963378906), (datetime.datetime(2022, 9, 21, 4, 0), 377.3900146484375), (datetime.datetime(2022, 9, 22, 4, 0), 374.2200012207031), (datetime.datetime(2022, 9, 23, 4, 0), 367.95001220703125), (datetime.datetime(2022, 9, 26, 4, 0), 364.30999755859375), (datetime.datetime(2022, 9, 27, 4, 0), 363.3800048828125), (datetime.datetime(2022, 9, 28, 4, 0), 370.5299987792969), (datetime.datetime(2022, 9, 29, 4, 0), 362.7900085449219), (datetime.datetime(2022, 9, 30, 4, 0), 357.17999267578125), (datetime.datetime(2022, 10, 3, 4, 0), 366.6099853515625), (datetime.datetime(2022, 10, 4, 4, 0), 377.9700012207031), (datetime.datetime(2022, 10, 5, 4, 0), 377.0899963378906), (datetime.datetime(2022, 10, 6, 4, 0), 373.20001220703125), (datetime.datetime(2022, 10, 7, 4, 0), 362.7900085449219), (datetime.datetime(2022, 10, 10, 4, 0), 360.0199890136719), (datetime.datetime(2022, 10, 11, 4, 0), 357.739990234375), (datetime.datetime(2022, 10, 12, 4, 0), 356.55999755859375), (datetime.datetime(2022, 10, 13, 4, 0), 365.9700012207031), (datetime.datetime(2022, 10, 14, 4, 0), 357.6300048828125)]\n"
     ]
    }
   ],
   "source": [
    "def retrieve_close(ticker:'str',start:Union[None,dt.datetime]=dt.date.today(),end:Union[None,dt.datetime]=dt.date.today()):\n",
    "    t = dt.datetime(2000,1,1,12)\n",
    "    detail = {'ticker':ticker}\n",
    "    rows = yahoo_col.find_one(detail)['stock_price']\n",
    "    close = [(row['Date'],row['Close']) for row in rows if row['Date'].date() >= start and row['Date'].date() <= end]\n",
    "    return close\n",
    "print(retrieve_close('SPY', dt.datetime(2020,1,1).date()))\n",
    "# print(yahoo_col.find_one({'ticker':'SPY'})['stock_price'])"
   ]
  },
  {
   "cell_type": "code",
   "execution_count": 10,
   "id": "497c6f6f-1397-42da-87e3-3e6d9e00be1d",
   "metadata": {},
   "outputs": [],
   "source": [
    "# from pandas_datareader import data as pdr\n",
    "import yfinance as yf\n",
    "import datetime as dt\n",
    "import pandas as pd\n",
    "# yf.pdr_override() # Use Pandas data reader to extract yf data faster for development purposes."
   ]
  },
  {
   "cell_type": "code",
   "execution_count": 22,
   "id": "509d7999-c986-49f3-acde-058978d72cee",
   "metadata": {},
   "outputs": [],
   "source": [
    "## Function for retrieving data in the interrium. Will replace with database function\n",
    "\n",
    "def retrieve_data(ticker: str, period:str):\n",
    "    data = yf.download(  # or pdr.get_data_yahoo(...\n",
    "        # tickers list or string as well\n",
    "        tickers = ticker,\n",
    "\n",
    "        # use \"period\" instead of start/end\n",
    "        # valid periods: 1d,5d,1mo,3mo,6mo,1y,2y,5y,10y,ytd,max\n",
    "        # (optional, default is '1mo')\n",
    "        period = period,\n",
    "\n",
    "        # fetch data by interval (including intraday if period < 60 days)\n",
    "        # valid intervals: 1m,2m,5m,15m,30m,60m,90m,1h,1d,5d,1wk,1mo,3mo\n",
    "        # (optional, default is '1d')\n",
    "        interval = \"1d\",\n",
    "\n",
    "        # group by ticker (to access via data['SPY'])\n",
    "        # (optional, default is 'column')\n",
    "        group_by = 'ticker',\n",
    "\n",
    "        # adjust all OHLC automatically\n",
    "        # (optional, default is False)\n",
    "        auto_adjust = False,\n",
    "\n",
    "        # download pre/post regular market hours data\n",
    "        # (optional, default is False)\n",
    "        prepost = False,\n",
    "\n",
    "        # use threads for mass downloading? (True/False/Integer)\n",
    "        # (optional, default is True)\n",
    "        threads = True,\n",
    "\n",
    "        # proxy URL scheme use use when downloading?\n",
    "        # (optional, default is None)\n",
    "        proxy = None\n",
    "    )\n",
    "    return data\n",
    "\n",
    "def get_noncumulative_returns(df:pd.DataFrame):\n",
    "    return df['Close'].pct_change()\n",
    "\n",
    "def define_value_at_risk(portfolio_returns:pd.DataFrame,baseline_returns:pd.DataFrame):\n",
    "    return pf.show_perf_stats(portfolio_returns,baseline_returns)\n"
   ]
  },
  {
   "cell_type": "markdown",
   "id": "fd9dcfcf-1a11-4978-b2e9-ece71094f80b",
   "metadata": {},
   "source": [
    "## VAR\n",
    "We will compare the noncumulative results for a given ti"
   ]
  },
  {
   "cell_type": "code",
   "execution_count": 26,
   "id": "b9bf0506-dca6-4651-a009-c4ac5963f6c0",
   "metadata": {},
   "outputs": [
    {
     "name": "stdout",
     "output_type": "stream",
     "text": [
      "[*********************100%***********************]  1 of 1 completed\n",
      "[*********************100%***********************]  1 of 1 completed\n"
     ]
    },
    {
     "data": {
      "text/html": [
       "<table border=\"1\" class=\"dataframe\">\n",
       "  <thead>\n",
       "    <tr style=\"text-align: right;\"><th>Start date</th><td colspan=2>2022-09-15</td></tr>\n",
       "    <tr style=\"text-align: right;\"><th>End date</th><td colspan=2>2022-10-14</td></tr>\n",
       "    <tr style=\"text-align: right;\"><th>Total months</th><td colspan=2>1</td></tr>\n",
       "    <tr style=\"text-align: right;\">\n",
       "      <th></th>\n",
       "      <th>Backtest</th>\n",
       "    </tr>\n",
       "  </thead>\n",
       "  <tbody>\n",
       "    <tr>\n",
       "      <th>Annual return</th>\n",
       "      <td>-62.2%</td>\n",
       "    </tr>\n",
       "    <tr>\n",
       "      <th>Cumulative returns</th>\n",
       "      <td>-8.1%</td>\n",
       "    </tr>\n",
       "    <tr>\n",
       "      <th>Annual volatility</th>\n",
       "      <td>38.3%</td>\n",
       "    </tr>\n",
       "    <tr>\n",
       "      <th>Sharpe ratio</th>\n",
       "      <td>-2.47</td>\n",
       "    </tr>\n",
       "    <tr>\n",
       "      <th>Calmar ratio</th>\n",
       "      <td>-4.39</td>\n",
       "    </tr>\n",
       "    <tr>\n",
       "      <th>Stability</th>\n",
       "      <td>0.45</td>\n",
       "    </tr>\n",
       "    <tr>\n",
       "      <th>Max drawdown</th>\n",
       "      <td>-14.2%</td>\n",
       "    </tr>\n",
       "    <tr>\n",
       "      <th>Omega ratio</th>\n",
       "      <td>0.68</td>\n",
       "    </tr>\n",
       "    <tr>\n",
       "      <th>Sortino ratio</th>\n",
       "      <td>-3.85</td>\n",
       "    </tr>\n",
       "    <tr>\n",
       "      <th>Skew</th>\n",
       "      <td>NaN</td>\n",
       "    </tr>\n",
       "    <tr>\n",
       "      <th>Kurtosis</th>\n",
       "      <td>NaN</td>\n",
       "    </tr>\n",
       "    <tr>\n",
       "      <th>Tail ratio</th>\n",
       "      <td>1.43</td>\n",
       "    </tr>\n",
       "    <tr>\n",
       "      <th>Daily value at risk</th>\n",
       "      <td>-5.2%</td>\n",
       "    </tr>\n",
       "    <tr>\n",
       "      <th>Alpha</th>\n",
       "      <td>0.33</td>\n",
       "    </tr>\n",
       "    <tr>\n",
       "      <th>Beta</th>\n",
       "      <td>1.22</td>\n",
       "    </tr>\n",
       "  </tbody>\n",
       "</table>"
      ],
      "text/plain": [
       "<IPython.core.display.HTML object>"
      ]
     },
     "metadata": {},
     "output_type": "display_data"
    }
   ],
   "source": [
    "# TODO: Turn into unit test.\n",
    "# This test emulates someone with a portfolio of just one stock\n",
    "# The performance is measured against that of SPY, which is a \n",
    "# standard baseline for the US Market.\n",
    "bac = retrieve_data('BAC', '1mo')\n",
    "spy = retrieve_data('SPY', '1mo')\n",
    "\n",
    "bac_returns = get_noncumulative_returns(bac)\n",
    "spy_returns = get_noncumulative_returns(spy)\n",
    "\n",
    "define_value_at_risk(bac_returns,spy_returns)"
   ]
  },
  {
   "cell_type": "markdown",
   "id": "1186ba7d-6274-4b07-a22c-ca1e339cad82",
   "metadata": {},
   "source": [
    "## MiniMax\n",
    "\n",
    "Explain minimax calculation"
   ]
  },
  {
   "cell_type": "code",
   "execution_count": null,
   "id": "a80c1b38-9e7d-493a-ae44-5a7b46be232c",
   "metadata": {},
   "outputs": [],
   "source": []
  },
  {
   "cell_type": "markdown",
   "id": "c8ef1244-08eb-4bac-9f1d-667799ba5c7f",
   "metadata": {},
   "source": [
    "## Visualizing with pyChart.js"
   ]
  },
  {
   "cell_type": "code",
   "execution_count": null,
   "id": "3e0d2465-6be5-4377-83ba-c2a8061a29b2",
   "metadata": {},
   "outputs": [],
   "source": []
  }
 ],
 "metadata": {
  "kernelspec": {
   "display_name": "Python 3",
   "language": "python",
   "name": "python3"
  },
  "language_info": {
   "codemirror_mode": {
    "name": "ipython",
    "version": 3
   },
   "file_extension": ".py",
   "mimetype": "text/x-python",
   "name": "python",
   "nbconvert_exporter": "python",
   "pygments_lexer": "ipython3",
   "version": "3.9.2"
  }
 },
 "nbformat": 4,
 "nbformat_minor": 5
}
