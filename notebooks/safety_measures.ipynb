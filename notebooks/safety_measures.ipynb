{
 "cells": [
  {
   "cell_type": "markdown",
   "id": "d1e9ef49-6f19-4463-890b-19475bce91cc",
   "metadata": {},
   "source": [
    "# Safety-first Risk Measures\n",
    "\n",
    "Developed based on the book Handbook of Finance, the 2 safety measures that were requested to be included in the financial dashboard were the Minimax (MM) and Value at Risk (VaR) measures. These measures are computed to help understand the value that an investor could lose out on if they were to invest in the stock. While these may be short sided measures, it could help an investor understand what to expect in the short term to take on more risk in the long term."
   ]
  },
  {
   "cell_type": "markdown",
   "id": "d90b0041-6098-4358-8205-905e99e006e3",
   "metadata": {},
   "source": [
    "We first start by importing some packages that allow us to utilize the MongoDB Altas cloud database and access a financial packages that simplifies calculating the two well know safety measures. These pages are also installed when the requirements files is run."
   ]
  },
  {
   "cell_type": "code",
   "execution_count": null,
   "id": "c5767316-ac34-4eb0-87df-9f3cdeb1de0d",
   "metadata": {},
   "outputs": [],
   "source": [
    "# pip install pyfolio\n",
    "# pip install pymongo\n",
    "# pip install \"pymongo[srv]\""
   ]
  },
  {
   "cell_type": "code",
   "execution_count": 7,
   "id": "803cb65d-f53b-4774-8633-4a2f82eb9631",
   "metadata": {},
   "outputs": [],
   "source": [
    "from pprint import pprint\n",
    "from typing import Union\n",
    "\n",
    "import pymongo\n",
    "import configparser\n",
    "import json\n",
    "\n",
    "import yfinance as yf\n",
    "import datetime as dt\n",
    "import pandas as pd\n",
    "import numpy as np\n",
    "import pyfolio as pf"
   ]
  },
  {
   "cell_type": "markdown",
   "id": "865fbef0-cd22-4868-abb4-c1e2562adc60",
   "metadata": {},
   "source": [
    "## Retrieving the Data\n",
    "Joshua R has spun up a MongoDB Atlas instance and provided the team with credentials. Using the Yahoo data, I will be able to perform VAR and MM with the pyfolio package. I'll first log into the database to develop an understand of the contents."
   ]
  },
  {
   "cell_type": "code",
   "execution_count": 4,
   "id": "8cfa692f-a1e8-4e11-b791-75b1036c1bfa",
   "metadata": {},
   "outputs": [],
   "source": [
    "config = configparser.ConfigParser()\n",
    "config.read('config.ini')\n",
    "mongo_config = config['MONGO']\n",
    "mongo_connection = \"mongodb+srv://\" + mongo_config['User'] + \":\" + mongo_config['Password'] + \"@\" + mongo_config['Address']\n",
    "myclient = pymongo.MongoClient(mongo_connection)\n"
   ]
  },
  {
   "cell_type": "code",
   "execution_count": 5,
   "id": "3378f4c5-b93e-4b42-9a53-ccc447dc4ef2",
   "metadata": {},
   "outputs": [],
   "source": [
    "mydb = myclient[\"market_shopper\"]\n",
    "sub_col = mydb[\"sec_sub\"]\n",
    "num_col = mydb[\"sec_num\"]\n",
    "tag_col = mydb[\"sec_tag\"]\n",
    "pre_col = mydb[\"sec_pre\"]\n",
    "sec_col = mydb[\"sec\"]\n",
    "yahoo_col = mydb[\"yahoo\"]"
   ]
  },
  {
   "cell_type": "code",
   "execution_count": 40,
   "id": "036aec14-d850-4eed-b0fa-bef208b4e467",
   "metadata": {},
   "outputs": [],
   "source": [
    "def retrieve_close(ticker:'str',start:dt.datetime=dt.date.today(),end:dt.datetime=dt.date.today()):\n",
    "    detail = {'ticker':ticker}\n",
    "    rows = yahoo_col.find_one(detail)\n",
    "    if rows is None:\n",
    "        return None\n",
    "    else:\n",
    "        rows = rows['stock_price']\n",
    "        close = [(row['Date'],row['Close']) for row in rows \n",
    "                 if row['Date'].date() >= start and row['Date'].date() <= end]\n",
    "    return pd.DataFrame(close, columns=['Date','Close'])\n",
    "\n",
    "def get_noncumulative_returns(df:pd.DataFrame):\n",
    "    return df['Close'].pct_change()\n",
    "\n",
    "def get_kpis(portfolio_returns:pd.DataFrame,baseline_returns:pd.DataFrame):\n",
    "    return pf.show_perf_stats(portfolio_returns,baseline_returns)"
   ]
  },
  {
   "cell_type": "code",
   "execution_count": 41,
   "id": "4565319c-de2d-49db-826a-d933c59009c3",
   "metadata": {},
   "outputs": [],
   "source": [
    "def add_portfolio_weights(portfolio:dict[str,dict]):\n",
    "    \"\"\"\n",
    "    Calculates the total of a portfolio (dict(str:dict))\n",
    "    then computes the weight for each stock within the\n",
    "    portfolio. Stock weights will be used in VaR.\n",
    "    \n",
    "    Return:\n",
    "        portfolio: dict\n",
    "    \"\"\"\n",
    "    portfolio_stocks = list(portfolio.keys())\n",
    "    portfolio_value = 0\n",
    "    for stock in portfolio_stocks:\n",
    "        if 'value' in portfolio[stock]:\n",
    "            portfolio_value += portfolio[stock]['value']\n",
    "\n",
    "    for stock in portfolio_stocks:\n",
    "        if 'value' in portfolio[stock]:\n",
    "            stock_weight = portfolio[stock]['value'] / portfolio_value\n",
    "            portfolio[stock]['weight'] = round(stock_weight, 3)\n",
    "\n",
    "    assert (np.isclose([round(sum([portfolio[stock]['weight'] for stock in portfolio_stocks \n",
    "                                   if 'weight' in portfolio[stock]]), 2)], [1.0]) == True).all()\n",
    "    \n",
    "    return portfolio\n",
    "\n",
    "\n",
    "def calculate_VaR(portfolio=dict[str,dict],\n",
    "                  index:str='SPY',\n",
    "                  start:dt.datetime=dt.date.today(),\n",
    "                  end:dt.datetime=dt.date.today()):\n",
    "    \"\"\"\n",
    "    Calculates the total of a portfolio (dict(key:dict))\n",
    "    and computes the weight for each stock within the\n",
    "    portfolio. Stock weights will be used in VaR.\n",
    "    \n",
    "    Return:\n",
    "        Value at Risk: value or dataframe\n",
    "    \"\"\"\n",
    "    portfolio_stocks = list(portfolio.keys())\n",
    "    returns = pd.DataFrame()\n",
    "    weights = []\n",
    "    \n",
    "    idx_returns = \n",
    "    \n",
    "    for stock in portfolio_stocks:\n",
    "        s = portfolio[stock]\n",
    "        close = retrieve_close(stock,start,end)\n",
    "        if close is not None:\n",
    "            ret = get_noncumulative_returns(close)\n",
    "            returns[stock] = get_kpis(ret)\n",
    "            weights.append(s['weight'])\n",
    "    return returns, weights\n",
    "\n"
   ]
  },
  {
   "cell_type": "code",
   "execution_count": 42,
   "id": "99e11a35-3256-486d-abaf-68986958f5c2",
   "metadata": {},
   "outputs": [
    {
     "ename": "TypeError",
     "evalue": "get_kpis() missing 1 required positional argument: 'baseline_returns'",
     "output_type": "error",
     "traceback": [
      "\u001b[0;31m---------------------------------------------------------------------------\u001b[0m",
      "\u001b[0;31mTypeError\u001b[0m                                 Traceback (most recent call last)",
      "\u001b[0;32m<ipython-input-42-fe880631b8ea>\u001b[0m in \u001b[0;36m<module>\u001b[0;34m\u001b[0m\n\u001b[1;32m      2\u001b[0m \u001b[0minput_data\u001b[0m \u001b[0;34m=\u001b[0m \u001b[0mjson\u001b[0m\u001b[0;34m.\u001b[0m\u001b[0mloads\u001b[0m\u001b[0;34m(\u001b[0m\u001b[0minput_data\u001b[0m\u001b[0;34m)\u001b[0m\u001b[0;34m\u001b[0m\u001b[0;34m\u001b[0m\u001b[0m\n\u001b[1;32m      3\u001b[0m \u001b[0mp\u001b[0m \u001b[0;34m=\u001b[0m \u001b[0madd_portfolio_weights\u001b[0m\u001b[0;34m(\u001b[0m\u001b[0minput_data\u001b[0m\u001b[0;34m)\u001b[0m\u001b[0;34m\u001b[0m\u001b[0;34m\u001b[0m\u001b[0m\n\u001b[0;32m----> 4\u001b[0;31m \u001b[0mcalculate_VaR\u001b[0m\u001b[0;34m(\u001b[0m\u001b[0mp\u001b[0m\u001b[0;34m)\u001b[0m\u001b[0;34m\u001b[0m\u001b[0;34m\u001b[0m\u001b[0m\n\u001b[0m",
      "\u001b[0;32m<ipython-input-41-9dbc99ce565f>\u001b[0m in \u001b[0;36mcalculate_VaR\u001b[0;34m(portfolio, index, start, end)\u001b[0m\n\u001b[1;32m     45\u001b[0m         \u001b[0;32mif\u001b[0m \u001b[0mclose\u001b[0m \u001b[0;32mis\u001b[0m \u001b[0;32mnot\u001b[0m \u001b[0;32mNone\u001b[0m\u001b[0;34m:\u001b[0m\u001b[0;34m\u001b[0m\u001b[0;34m\u001b[0m\u001b[0m\n\u001b[1;32m     46\u001b[0m             \u001b[0mret\u001b[0m \u001b[0;34m=\u001b[0m \u001b[0mget_noncumulative_returns\u001b[0m\u001b[0;34m(\u001b[0m\u001b[0mclose\u001b[0m\u001b[0;34m)\u001b[0m\u001b[0;34m\u001b[0m\u001b[0;34m\u001b[0m\u001b[0m\n\u001b[0;32m---> 47\u001b[0;31m             \u001b[0mreturns\u001b[0m\u001b[0;34m[\u001b[0m\u001b[0mstock\u001b[0m\u001b[0;34m]\u001b[0m \u001b[0;34m=\u001b[0m \u001b[0mget_kpis\u001b[0m\u001b[0;34m(\u001b[0m\u001b[0mret\u001b[0m\u001b[0;34m)\u001b[0m\u001b[0;34m\u001b[0m\u001b[0;34m\u001b[0m\u001b[0m\n\u001b[0m\u001b[1;32m     48\u001b[0m             \u001b[0mweights\u001b[0m\u001b[0;34m.\u001b[0m\u001b[0mappend\u001b[0m\u001b[0;34m(\u001b[0m\u001b[0ms\u001b[0m\u001b[0;34m[\u001b[0m\u001b[0;34m'weight'\u001b[0m\u001b[0;34m]\u001b[0m\u001b[0;34m)\u001b[0m\u001b[0;34m\u001b[0m\u001b[0;34m\u001b[0m\u001b[0m\n\u001b[1;32m     49\u001b[0m     \u001b[0;32mreturn\u001b[0m \u001b[0mreturns\u001b[0m\u001b[0;34m,\u001b[0m \u001b[0mweights\u001b[0m\u001b[0;34m\u001b[0m\u001b[0;34m\u001b[0m\u001b[0m\n",
      "\u001b[0;31mTypeError\u001b[0m: get_kpis() missing 1 required positional argument: 'baseline_returns'"
     ]
    }
   ],
   "source": [
    "input_data = '{\"BTC\": {\"name\": \"BTC\", \"type\": \"cash\", \"quantity\": 0.00293644, \"value\": 115.57268}, \"MIPTX\": {\"name\": \"MIPTX\", \"type\": \"mutual fund\", \"quantity\": 23.567, \"value\": 636.309}, \"ACHN\": {\"name\": \"ACHN\", \"type\": \"equity\", \"quantity\": 1.0, \"value\": 2.11}, \"CAMYX\": {\"name\": \"CAMYX\", \"type\": \"mutual fund\", \"quantity\": 75.75, \"value\": 1855.875}, \"DBLTX\": {\"name\": \"DBLTX\", \"type\": \"mutual fund\", \"quantity\": 2.0, \"value\": 20.84}, \"PRFDX\": {\"name\": \"PRFDX\", \"type\": \"mutual fund\"}, \"EWZ\": {\"name\": \"EWZ\", \"type\": \"etf\", \"quantity\": 5.0, \"value\": 210.75}, \"null\": {\"name\": null, \"type\": \"mutual fund\", \"quantity\": 21.5, \"value\": 430.0}, \"SBSI\": {\"name\": \"SBSI\", \"type\": \"equity\", \"quantity\": 213.0, \"value\": 7397.49}, \"NHX105509\": {\"name\": \"NHX105509\", \"type\": \"etf\", \"quantity\": 100.05, \"value\": 1373.6865}}'\n",
    "input_data = json.loads(input_data)\n",
    "p = add_portfolio_weights(input_data)\n",
    "calculate_VaR(p)\n"
   ]
  },
  {
   "cell_type": "markdown",
   "id": "fd9dcfcf-1a11-4978-b2e9-ece71094f80b",
   "metadata": {},
   "source": [
    "## VAR\n",
    "We will compare the noncumulative results for a given ti"
   ]
  },
  {
   "cell_type": "code",
   "execution_count": 26,
   "id": "b9bf0506-dca6-4651-a009-c4ac5963f6c0",
   "metadata": {},
   "outputs": [
    {
     "name": "stdout",
     "output_type": "stream",
     "text": [
      "[*********************100%***********************]  1 of 1 completed\n",
      "[*********************100%***********************]  1 of 1 completed\n"
     ]
    },
    {
     "data": {
      "text/html": [
       "<table border=\"1\" class=\"dataframe\">\n",
       "  <thead>\n",
       "    <tr style=\"text-align: right;\"><th>Start date</th><td colspan=2>2022-09-15</td></tr>\n",
       "    <tr style=\"text-align: right;\"><th>End date</th><td colspan=2>2022-10-14</td></tr>\n",
       "    <tr style=\"text-align: right;\"><th>Total months</th><td colspan=2>1</td></tr>\n",
       "    <tr style=\"text-align: right;\">\n",
       "      <th></th>\n",
       "      <th>Backtest</th>\n",
       "    </tr>\n",
       "  </thead>\n",
       "  <tbody>\n",
       "    <tr>\n",
       "      <th>Annual return</th>\n",
       "      <td>-62.2%</td>\n",
       "    </tr>\n",
       "    <tr>\n",
       "      <th>Cumulative returns</th>\n",
       "      <td>-8.1%</td>\n",
       "    </tr>\n",
       "    <tr>\n",
       "      <th>Annual volatility</th>\n",
       "      <td>38.3%</td>\n",
       "    </tr>\n",
       "    <tr>\n",
       "      <th>Sharpe ratio</th>\n",
       "      <td>-2.47</td>\n",
       "    </tr>\n",
       "    <tr>\n",
       "      <th>Calmar ratio</th>\n",
       "      <td>-4.39</td>\n",
       "    </tr>\n",
       "    <tr>\n",
       "      <th>Stability</th>\n",
       "      <td>0.45</td>\n",
       "    </tr>\n",
       "    <tr>\n",
       "      <th>Max drawdown</th>\n",
       "      <td>-14.2%</td>\n",
       "    </tr>\n",
       "    <tr>\n",
       "      <th>Omega ratio</th>\n",
       "      <td>0.68</td>\n",
       "    </tr>\n",
       "    <tr>\n",
       "      <th>Sortino ratio</th>\n",
       "      <td>-3.85</td>\n",
       "    </tr>\n",
       "    <tr>\n",
       "      <th>Skew</th>\n",
       "      <td>NaN</td>\n",
       "    </tr>\n",
       "    <tr>\n",
       "      <th>Kurtosis</th>\n",
       "      <td>NaN</td>\n",
       "    </tr>\n",
       "    <tr>\n",
       "      <th>Tail ratio</th>\n",
       "      <td>1.43</td>\n",
       "    </tr>\n",
       "    <tr>\n",
       "      <th>Daily value at risk</th>\n",
       "      <td>-5.2%</td>\n",
       "    </tr>\n",
       "    <tr>\n",
       "      <th>Alpha</th>\n",
       "      <td>0.33</td>\n",
       "    </tr>\n",
       "    <tr>\n",
       "      <th>Beta</th>\n",
       "      <td>1.22</td>\n",
       "    </tr>\n",
       "  </tbody>\n",
       "</table>"
      ],
      "text/plain": [
       "<IPython.core.display.HTML object>"
      ]
     },
     "metadata": {},
     "output_type": "display_data"
    }
   ],
   "source": [
    "# TODO: Turn into unit test.\n",
    "# This test emulates someone with a portfolio of just one stock\n",
    "# The performance is measured against that of SPY, which is a \n",
    "# standard baseline for the US Market.\n",
    "bac = retrieve_data('BAC', '1mo')\n",
    "spy = retrieve_data('SPY', '1mo')\n",
    "\n",
    "bac_returns = get_noncumulative_returns(bac)\n",
    "spy_returns = get_noncumulative_returns(spy)\n",
    "\n",
    "define_value_at_risk(bac_returns,spy_returns)"
   ]
  },
  {
   "cell_type": "markdown",
   "id": "1186ba7d-6274-4b07-a22c-ca1e339cad82",
   "metadata": {},
   "source": [
    "## MiniMax\n",
    "\n",
    "Explain minimax calculation"
   ]
  },
  {
   "cell_type": "code",
   "execution_count": null,
   "id": "a80c1b38-9e7d-493a-ae44-5a7b46be232c",
   "metadata": {},
   "outputs": [],
   "source": []
  },
  {
   "cell_type": "markdown",
   "id": "c8ef1244-08eb-4bac-9f1d-667799ba5c7f",
   "metadata": {},
   "source": [
    "## Visualizing with pyChart.js"
   ]
  },
  {
   "cell_type": "code",
   "execution_count": null,
   "id": "3e0d2465-6be5-4377-83ba-c2a8061a29b2",
   "metadata": {},
   "outputs": [],
   "source": []
  }
 ],
 "metadata": {
  "kernelspec": {
   "display_name": "Python 3",
   "language": "python",
   "name": "python3"
  },
  "language_info": {
   "codemirror_mode": {
    "name": "ipython",
    "version": 3
   },
   "file_extension": ".py",
   "mimetype": "text/x-python",
   "name": "python",
   "nbconvert_exporter": "python",
   "pygments_lexer": "ipython3",
   "version": "3.9.2"
  }
 },
 "nbformat": 4,
 "nbformat_minor": 5
}
